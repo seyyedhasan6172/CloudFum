{
  "nbformat": 4,
  "nbformat_minor": 0,
  "metadata": {
    "colab": {
      "name": "Telegram bot",
      "provenance": [],
      "authorship_tag": "ABX9TyNrOCPK4Px7lPG8V84t+7d8",
      "include_colab_link": true
    },
    "kernelspec": {
      "name": "python3",
      "display_name": "Python 3"
    }
  },
  "cells": [
    {
      "cell_type": "markdown",
      "metadata": {
        "id": "view-in-github",
        "colab_type": "text"
      },
      "source": [
        "<a href=\"https://colab.research.google.com/github/seyyedhasan6172/CloudFum/blob/master/IoT-Course-9902/HW/2/Telegram%20Bot/Telegram_bot.ipynb\" target=\"_parent\"><img src=\"https://colab.research.google.com/assets/colab-badge.svg\" alt=\"Open In Colab\"/></a>"
      ]
    },
    {
      "cell_type": "code",
      "metadata": {
        "id": "4QK7i_hr_l5Y"
      },
      "source": [
        "import requests"
      ],
      "execution_count": 10,
      "outputs": []
    },
    {
      "cell_type": "code",
      "metadata": {
        "id": "DIKZjqbs_uS0"
      },
      "source": [
        "def telegram_bot_sendtext(bot_message):\n",
        "    bot_token = '1861332067:AAFxb0opR3GSSMBW2U-4YqJoz0JmjpxAlQI'\n",
        "    bot_chatID = '163611974'\n",
        "    send_text = 'https://api.telegram.org/bot' + bot_token + '/sendMessage?chat_id=' + bot_chatID + '&parse_mode=Markdown&text=' + bot_message\n",
        "    response = requests.get(send_text)\n",
        "    return response.json()"
      ],
      "execution_count": 15,
      "outputs": []
    },
    {
      "cell_type": "code",
      "metadata": {
        "colab": {
          "base_uri": "https://localhost:8080/"
        },
        "id": "TX61wGMnAIir",
        "outputId": "53ba3954-381e-4486-9f85-bcecc06fa462"
      },
      "source": [
        "telegram_bot_sendtext(\"Temperature : -35\")"
      ],
      "execution_count": 16,
      "outputs": [
        {
          "output_type": "execute_result",
          "data": {
            "text/plain": [
              "{'ok': True,\n",
              " 'result': {'chat': {'first_name': 'AGH',\n",
              "   'id': 163611974,\n",
              "   'type': 'private',\n",
              "   'username': 'lAGHl'},\n",
              "  'date': 1622794653,\n",
              "  'from': {'first_name': 'TemperatureAlert',\n",
              "   'id': 1861332067,\n",
              "   'is_bot': True,\n",
              "   'username': 'iot_00_temperature_alert_bot'},\n",
              "  'message_id': 13,\n",
              "  'text': 'Temperature : -35'}}"
            ]
          },
          "metadata": {
            "tags": []
          },
          "execution_count": 16
        }
      ]
    }
  ]
}